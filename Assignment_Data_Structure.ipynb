{
  "nbformat": 4,
  "nbformat_minor": 0,
  "metadata": {
    "colab": {
      "provenance": []
    },
    "kernelspec": {
      "name": "python3",
      "display_name": "Python 3"
    },
    "language_info": {
      "name": "python"
    }
  },
  "cells": [
    {
      "cell_type": "markdown",
      "source": [
        "# 1. Discuss string slicing and provide examples."
      ],
      "metadata": {
        "id": "tjAlML7w3j6_"
      }
    },
    {
      "cell_type": "markdown",
      "source": [
        "String slicing in Python is a way to get specific parts of a string by using start, end, and step values. It’s especially useful for text manipulation and data parsing. It is a technique in Python that allows programmers to extract a portion of a string by specifying a start and end index."
      ],
      "metadata": {
        "id": "pUS8mJot3sMW"
      }
    },
    {
      "cell_type": "code",
      "source": [
        "# Example\n",
        "\n",
        "s1 = \"Hello, Python!\"\n",
        "s2 = s1[0:5]\n",
        "\n",
        "print(s2)\n"
      ],
      "metadata": {
        "colab": {
          "base_uri": "https://localhost:8080/"
        },
        "id": "pBvIjZ-p374D",
        "outputId": "482e8912-6787-4aaa-dcdb-1291f5067b51"
      },
      "execution_count": null,
      "outputs": [
        {
          "output_type": "stream",
          "name": "stdout",
          "text": [
            "Hello\n"
          ]
        }
      ]
    },
    {
      "cell_type": "markdown",
      "source": [
        "# 2. Explain the key features of lists in Python."
      ],
      "metadata": {
        "id": "PMRzyx8w4I_7"
      }
    },
    {
      "cell_type": "markdown",
      "source": [
        "The key features of python are as follows :-\n",
        "\n",
        "**Ordered**: Lists maintain the order of elements as they are inserted.\n",
        "\n",
        "**Mutable**: You can modify the elements of a list after it's created. This means adding, removing, or changing elements.\n",
        "\n",
        "**Heterogeneous:** Lists can contain elements of different data types, such as integers, strings, floats, and even other lists.\n",
        "\n",
        "**Dynamic size**: Lists can grow or shrink in size as needed.\n",
        "\n",
        "**Indexed access**: Elements in a list can be accessed using their index, starting from 0 for the first element.\n",
        "\n",
        "**Slicing**: You can extract a portion of a list using slicing.\n",
        "\n",
        "**Iterable**: Lists can be iterated over using loops, such as for loops.\n",
        "\n",
        "**Duplicate elements**: Lists can contain duplicate elements."
      ],
      "metadata": {
        "id": "4LYGwu-D4NLb"
      }
    },
    {
      "cell_type": "markdown",
      "source": [
        "# 3. Describe how to access, modify, and delete elements in a list with examples."
      ],
      "metadata": {
        "id": "Isa1w86P4R7y"
      }
    },
    {
      "cell_type": "markdown",
      "source": [
        "**1. Accessing Elements in a List**\n",
        "\n",
        "You can access elements in a list by using indexing. Indexes start from 0 in Python. Negative indexing allows you to access elements from the end of the list."
      ],
      "metadata": {
        "id": "sI0pDqDY472Z"
      }
    },
    {
      "cell_type": "code",
      "source": [
        "my_list = [10, 20, 30, 38, 50]\n",
        "\n",
        "print(my_list[0])\n",
        "print(my_list[2])\n",
        "\n",
        "print(my_list[-1])\n",
        "print(my_list[-2])\n"
      ],
      "metadata": {
        "colab": {
          "base_uri": "https://localhost:8080/"
        },
        "id": "4vI6rOjQKYBD",
        "outputId": "6ff4df17-f287-4f75-885d-46c3010aa896"
      },
      "execution_count": 1,
      "outputs": [
        {
          "output_type": "stream",
          "name": "stdout",
          "text": [
            "10\n",
            "30\n",
            "50\n",
            "38\n"
          ]
        }
      ]
    },
    {
      "cell_type": "markdown",
      "source": [
        "**2. Modifying Elements in a List**\n",
        "\n",
        "You can modify elements in a list by accessing them via their index and then assigning a new value."
      ],
      "metadata": {
        "id": "hiGfuqckKjc0"
      }
    },
    {
      "cell_type": "code",
      "source": [
        "my_list = [10, 20, 30, 40, 50]\n",
        "\n",
        "my_list[1] = 26\n",
        "print(my_list)"
      ],
      "metadata": {
        "colab": {
          "base_uri": "https://localhost:8080/"
        },
        "id": "ocz6ruBuKqK3",
        "outputId": "cfc50249-1c51-4ebc-9292-96f6c4cd97ff"
      },
      "execution_count": 2,
      "outputs": [
        {
          "output_type": "stream",
          "name": "stdout",
          "text": [
            "[10, 26, 30, 40, 50]\n"
          ]
        }
      ]
    },
    {
      "cell_type": "markdown",
      "source": [
        "**3. Deleting Elements in a List**\n",
        "\n",
        "You can delete elements in a list using the del statement, the remove() method, or the pop() method.\n",
        "\n",
        "**Using del:** This removes an element at a specific index.\n",
        "\n",
        "**Using remove():** This removes the first occurrence of a value from the list.\n",
        "\n",
        "**Using pop():** This removes and returns the element at the given index (or the last element if no index is specified)."
      ],
      "metadata": {
        "id": "vey4E8LUKwg9"
      }
    },
    {
      "cell_type": "code",
      "source": [
        "my_list = [10, 20, 30, 40, 50]\n",
        "\n",
        "del my_list[1]\n",
        "print(my_list)\n",
        "\n",
        "my_list.remove(40)\n",
        "print(my_list)\n",
        "\n",
        "last_element = my_list.pop()\n",
        "print(last_element)\n",
        "print(my_list)"
      ],
      "metadata": {
        "colab": {
          "base_uri": "https://localhost:8080/"
        },
        "id": "mZdnDN_aK6cA",
        "outputId": "42acf694-bd96-4515-d335-0e48ec3cb7ff"
      },
      "execution_count": 3,
      "outputs": [
        {
          "output_type": "stream",
          "name": "stdout",
          "text": [
            "[10, 30, 40, 50]\n",
            "[10, 30, 50]\n",
            "50\n",
            "[10, 30]\n"
          ]
        }
      ]
    },
    {
      "cell_type": "markdown",
      "source": [
        "# 4. Compare and contrast tuples and lists with examples."
      ],
      "metadata": {
        "id": "qgbXBlNgLFfA"
      }
    },
    {
      "cell_type": "markdown",
      "source": [
        "**LIST**                                \n",
        "\n",
        "1\tLists are mutable.\n",
        "\n",
        "2\tThe implication of iterations is Time-consuming\n",
        "\n",
        "3\tThe list is better for performing operations, such as insertion and deletion.\n",
        "\n",
        "4\tLists consume more memory\tTuple consumes less memory as compared to the list\n",
        "\n",
        "5\tLists have several built-in methods\n",
        "\n",
        "**TUPLE**\n",
        "\n",
        "1\t\tTuples are immutable\n",
        "\n",
        "2\t\tThe implication of iterations is comparatively Faster\n",
        "\n",
        "3\tA Tuple data type is appropriate for accessing the elements\n",
        "\n",
        "4\t\tTuple consumes less memory as compared to the list.\n",
        "\n",
        "5\t\tTuple does not have many built-in methods.\n"
      ],
      "metadata": {
        "id": "Plrs7K04LSA3"
      }
    },
    {
      "cell_type": "code",
      "source": [
        "#List example\n",
        "List = [1, 2, 4, 4, 3, 3, 3, 6, 5]\n",
        "print(\"Original list \", List)\n",
        "\n",
        "List[3] = 77\n",
        "print(\"Example to show mutability \", List)"
      ],
      "metadata": {
        "colab": {
          "base_uri": "https://localhost:8080/"
        },
        "id": "oTCy5jyZMgId",
        "outputId": "c59068a6-c7c1-4e62-b09d-9cc08c4df25e"
      },
      "execution_count": 7,
      "outputs": [
        {
          "output_type": "stream",
          "name": "stdout",
          "text": [
            "Original list  [1, 2, 4, 4, 3, 3, 3, 6, 5]\n",
            "Example to show mutability  [1, 2, 4, 77, 3, 3, 3, 6, 5]\n"
          ]
        }
      ]
    },
    {
      "cell_type": "code",
      "source": [
        "#tuples exaple\n",
        "tuple1 = (0, 1, 2, 3)\n",
        "print(tuple1)"
      ],
      "metadata": {
        "colab": {
          "base_uri": "https://localhost:8080/"
        },
        "id": "g8cRTJ6WMlyA",
        "outputId": "11eb0373-13ba-4bca-c7d6-790e18907634"
      },
      "execution_count": 6,
      "outputs": [
        {
          "output_type": "stream",
          "name": "stdout",
          "text": [
            "(0, 1, 2, 3)\n"
          ]
        }
      ]
    },
    {
      "cell_type": "markdown",
      "source": [
        "# 5. Describe the key features of sets and provide examples of their uses."
      ],
      "metadata": {
        "id": "cK8HU9TINAlL"
      }
    },
    {
      "cell_type": "markdown",
      "source": [
        "A set in Python is a built-in data structure that represents an unordered collection of unique elements. Sets are used to perform mathematical set operations like union, intersection, difference, and symmetric difference.\n",
        "\n",
        "**Key Features of Sets**\n",
        "\n",
        "**Unordered:** Sets do not maintain any specific order of elements. The items in a set do not have a defined index, meaning you cannot access elements by position (i.e., no indexing or slicing).\n",
        "\n",
        "**Unique Elements:** A set only contains unique elements. If you try to add a duplicate element to a set, it will be ignored.\n",
        "\n",
        "**Mutable:** Sets are mutable, meaning you can add or remove elements after the set is created.\n",
        "\n",
        "**No Indexing:** Since sets are unordered, you cannot use indexing or slicing to access elements. You can only iterate over a set or use set-specific methods to interact with the elements.\n",
        "\n",
        "**Fast Membership Tests:** Sets are optimized for membership tests (checking whether an element is present or not). This makes them more efficient than lists for checking membership.\n",
        "\n",
        "**Unhashable Elements:** Sets cannot contain mutable (non-hashable) elements like lists or dictionaries, but can store immutable (hashable) elements like numbers, strings, and tuples."
      ],
      "metadata": {
        "id": "snCzfApmNXMX"
      }
    },
    {
      "cell_type": "code",
      "source": [
        "my_set = {1, 2, 3, 4, 5, 5, 5}\n",
        "print(my_set)"
      ],
      "metadata": {
        "colab": {
          "base_uri": "https://localhost:8080/"
        },
        "id": "RjVmFs-jN3az",
        "outputId": "2f0aa02f-5754-4fed-956e-e81a3ffc34f7"
      },
      "execution_count": 8,
      "outputs": [
        {
          "output_type": "stream",
          "name": "stdout",
          "text": [
            "{1, 2, 3, 4, 5}\n"
          ]
        }
      ]
    },
    {
      "cell_type": "code",
      "source": [
        "my_set = {1, 2, 3}\n",
        "\n",
        "# Adding an element\n",
        "my_set.add(4)\n",
        "print(my_set)\n",
        "\n",
        "# Removing an element\n",
        "my_set.remove(2)\n",
        "print(my_set)\n",
        "\n",
        "# Discarding an element (no error if element not found)\n",
        "my_set.discard(5)\n",
        "print(my_set)"
      ],
      "metadata": {
        "colab": {
          "base_uri": "https://localhost:8080/"
        },
        "id": "VubiqGXIOB6G",
        "outputId": "a4a9d9e5-bbb8-4dd5-b7ba-e125dd147568"
      },
      "execution_count": 9,
      "outputs": [
        {
          "output_type": "stream",
          "name": "stdout",
          "text": [
            "{1, 2, 3, 4}\n",
            "{1, 3, 4}\n",
            "{1, 3, 4}\n"
          ]
        }
      ]
    },
    {
      "cell_type": "markdown",
      "source": [
        " # 6. Discuss the use cases of tuples and sets in python programming."
      ],
      "metadata": {
        "id": "t-AFYD_0OKys"
      }
    },
    {
      "cell_type": "markdown",
      "source": [
        "**Use Cases of Tuples**\n",
        "\n",
        "Storing Fixed Collections of Data Tuples are ideal when you need to store a\n",
        "collection of items that should not change. Because tuples are immutable, they guarantee that their contents will remain constant throughout the program's execution.\n",
        "\n",
        "Function Return Values Tuples are commonly used to return multiple values from a function. Since tuples are ordered and immutable, they provide a safe and simple way to return related pieces of data.\n",
        "\n",
        "As Dictionary Keys Since tuples are immutable, they are hashable and can be used as keys in dictionaries. This is useful when you need composite keys (keys consisting of multiple elements).\n",
        "\n",
        "Memory Efficiency Tuples are more memory-efficient than lists because they are immutable. This makes them a better choice when you need to store large datasets that won’t change.\n",
        "\n",
        "Heterogeneous Data Tuples can store elements of different data types (e.g., integers, strings, floats), which makes them useful for grouping related data of different types.\n",
        "\n",
        "**Use Cases of Sets**\n",
        "\n",
        "Removing Duplicates Sets automatically eliminate duplicate elements, making them a natural choice when you need to remove duplicates from a collection.\n",
        "\n",
        "Membership Testing Sets provide fast membership testing (checking whether an element exists in the set). This is particularly useful when you need to perform frequent checks for existence.\n",
        "\n",
        "Set Operations (Mathematical Set Operations) Sets support mathematical operations like union, intersection, difference, and symmetric difference, making them ideal for tasks that involve combining or comparing multiple sets.\n",
        "\n",
        "Storing Unique Data Sets are ideal for storing unique items without caring about order. For example, a set can be used to store a collection of unique tags, words, or identifiers.\n",
        "\n",
        "Efficient Lookup for Large Datasets When working with large datasets, sets can be more efficient than lists for checking the presence of an element, due to their optimized internal structure (hashing).\n",
        "\n",
        "Data Integrity with Uniqueness Sets help ensure that only unique items are stored, which is useful in scenarios like ensuring that a collection of items, IDs, or attributes remains free from duplication."
      ],
      "metadata": {
        "id": "qGTuc6KWOWKW"
      }
    },
    {
      "cell_type": "markdown",
      "source": [
        "# 7. Describe how to add, modify, and delete items in a dictionary with examples."
      ],
      "metadata": {
        "id": "_w1do1lXP2ve"
      }
    },
    {
      "cell_type": "markdown",
      "source": [
        "In Python, a dictionary is an unordered collection of key-value pairs. Dictionaries are extremely flexible and efficient for storing and managing data where each item is associated with a unique key.\n",
        "\n",
        "**1. Adding Items to a Dictionary**\n",
        "\n",
        "To add a new key-value pair to a dictionary, you simply assign a value to a new key. If the key already exists in the dictionary, the value will be updated."
      ],
      "metadata": {
        "id": "pesPt3Z6XbVr"
      }
    },
    {
      "cell_type": "code",
      "source": [
        "# Creating an empty dictionary\n",
        "my_dict = {}\n",
        "\n",
        "# Adding key-value pairs\n",
        "my_dict['name'] = 'John'\n",
        "my_dict['age'] = 25\n",
        "my_dict['city'] = 'New York'\n",
        "\n",
        "print(my_dict)\n"
      ],
      "metadata": {
        "colab": {
          "base_uri": "https://localhost:8080/"
        },
        "id": "leTvijkwX4yU",
        "outputId": "7595bffb-e128-498b-c2bc-259ce9907ed8"
      },
      "execution_count": 10,
      "outputs": [
        {
          "output_type": "stream",
          "name": "stdout",
          "text": [
            "{'name': 'John', 'age': 25, 'city': 'New York'}\n"
          ]
        }
      ]
    },
    {
      "cell_type": "markdown",
      "source": [
        "**2. Modifying Items in a Dictionary**\n",
        "\n",
        "To modify the value of an existing key, simply assign a new value to the key."
      ],
      "metadata": {
        "id": "uk4cuKpNX-IJ"
      }
    },
    {
      "cell_type": "code",
      "source": [
        "\n",
        "my_dict['name'] = 'John'\n",
        "my_dict['age'] = 25\n",
        "my_dict['city'] = 'New York'\n",
        "\n",
        "# Modifying the value of an existing key\n",
        "my_dict['age'] = 26\n",
        "\n",
        "print(my_dict)\n"
      ],
      "metadata": {
        "colab": {
          "base_uri": "https://localhost:8080/"
        },
        "id": "dube-7rvYCX9",
        "outputId": "4911566f-835c-4242-8552-2c3a2e05d10f"
      },
      "execution_count": 11,
      "outputs": [
        {
          "output_type": "stream",
          "name": "stdout",
          "text": [
            "{'name': 'John', 'age': 26, 'city': 'New York'}\n"
          ]
        }
      ]
    },
    {
      "cell_type": "markdown",
      "source": [
        "**3. Deleting Items from a Dictionary**\n",
        "\n",
        "There are several ways to delete items from a dictionary. You can delete a single item, delete all items, or delete an item and handle missing keys gracefully."
      ],
      "metadata": {
        "id": "6QLk4GLMYP44"
      }
    },
    {
      "cell_type": "code",
      "source": [
        "my_dict['name'] = 'John'\n",
        "my_dict['age'] = 25\n",
        "my_dict['city'] = 'New York'\n",
        "\n",
        "# Deleting an item using del\n",
        "del my_dict['city']\n",
        "\n",
        "print(my_dict)"
      ],
      "metadata": {
        "colab": {
          "base_uri": "https://localhost:8080/"
        },
        "id": "7e7X50MuYUKW",
        "outputId": "d479fc4a-d8fd-4157-8bf9-06cb18bb4c30"
      },
      "execution_count": 12,
      "outputs": [
        {
          "output_type": "stream",
          "name": "stdout",
          "text": [
            "{'name': 'John', 'age': 25}\n"
          ]
        }
      ]
    },
    {
      "cell_type": "markdown",
      "source": [
        "# 8. Discuss the importance of dictionary keys being immutable and provide examples."
      ],
      "metadata": {
        "id": "d7sicN_3YfzJ"
      }
    },
    {
      "cell_type": "markdown",
      "source": [
        "**Importance of Dictionary Keys Being Immutable**\n",
        "\n",
        "**Hashing Mechanism:** Dictionaries use a hashing algorithm to map the key to a specific location in memory, making lookups, insertions, and deletions efficient (usually O(1) time complexity). In order for the hashing mechanism to work correctly, the key's hash value must remain constant throughout its lifetime.\n",
        "\n",
        "**Consistency of Keys:** If dictionary keys were mutable, modifying the key after it has been added to the dictionary could change its position in the underlying hash table. This could make it impossible to find the key again or cause incorrect behavior when performing operations like lookups, deletions, or updates.\n",
        "\n",
        "**Hashable Requirement:** A hashable object is one whose hash value remains constant during its lifetime. Hashable objects are usually immutable types like strings, numbers, and tuples. Conversely, mutable objects like lists, sets, and dictionaries are not hashable and cannot be used as dictionary keys."
      ],
      "metadata": {
        "id": "08QsSdZZYxYY"
      }
    },
    {
      "cell_type": "code",
      "source": [
        "# Using a string as a dictionary key\n",
        "my_dict = {'name': 'Alice', 'age': 30}\n",
        "print(my_dict['name'])  # Output: Alice\n",
        "\n",
        "# Using an integer as a dictionary key\n",
        "my_dict[10] = 'Ten'\n",
        "print(my_dict[10])  # Output: Ten\n",
        "\n",
        "# Using a tuple as a dictionary key\n",
        "coordinates = {(1, 2): \"Point A\", (3, 4): \"Point B\"}\n",
        "print(coordinates[(1, 2)])\n"
      ],
      "metadata": {
        "colab": {
          "base_uri": "https://localhost:8080/"
        },
        "id": "DPAOSoKCZf__",
        "outputId": "30f1b51e-74b5-4a0f-d046-676555874b9e"
      },
      "execution_count": 13,
      "outputs": [
        {
          "output_type": "stream",
          "name": "stdout",
          "text": [
            "Alice\n",
            "Ten\n",
            "Point A\n"
          ]
        }
      ]
    }
  ]
}